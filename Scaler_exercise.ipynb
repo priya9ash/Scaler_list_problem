{
 "cells": [
  {
   "cell_type": "markdown",
   "id": "768765f8",
   "metadata": {},
   "source": [
    "# i in range(len(numbers))\n",
    "# i in numbers\n",
    "#i in range(numbers)\n",
    "#i in len(numbers)"
   ]
  },
  {
   "cell_type": "code",
   "execution_count": 6,
   "id": "6baf57c2",
   "metadata": {},
   "outputs": [
    {
     "name": "stdout",
     "output_type": "stream",
     "text": [
      "30.0\n"
     ]
    }
   ],
   "source": [
    "numbers=[10,20,30,40,50]\n",
    "total=0\n",
    "for i in numbers:\n",
    "    total=total+i\n",
    "    \n",
    "num_size=len(numbers)\n",
    "avg=total/num_size\n",
    "print(avg)"
   ]
  },
  {
   "cell_type": "code",
   "execution_count": null,
   "id": "959b9a7f",
   "metadata": {},
   "outputs": [],
   "source": []
  }
 ],
 "metadata": {
  "kernelspec": {
   "display_name": "Python 3 (ipykernel)",
   "language": "python",
   "name": "python3"
  },
  "language_info": {
   "codemirror_mode": {
    "name": "ipython",
    "version": 3
   },
   "file_extension": ".py",
   "mimetype": "text/x-python",
   "name": "python",
   "nbconvert_exporter": "python",
   "pygments_lexer": "ipython3",
   "version": "3.10.1"
  }
 },
 "nbformat": 4,
 "nbformat_minor": 5
}
