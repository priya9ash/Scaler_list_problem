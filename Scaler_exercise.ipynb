{
 "cells": [
  {
   "cell_type": "code",
   "execution_count": 8,
   "id": "3febd527",
   "metadata": {},
   "outputs": [],
   "source": [
    "#Scaler_list_problem_1"
   ]
  },
  {
   "cell_type": "markdown",
   "id": "33d2e9b4",
   "metadata": {},
   "source": [
    "# i in range(len(numbers))\n",
    "# i in numbers\n",
    "#i in range(numbers)\n",
    "#i in len(numbers)"
   ]
  },
  {
   "cell_type": "code",
   "execution_count": 6,
   "id": "671bf9e8",
   "metadata": {},
   "outputs": [
    {
     "name": "stdout",
     "output_type": "stream",
     "text": [
      "30.0\n"
     ]
    }
   ],
   "source": [
    "numbers=[10,20,30,40,50]\n",
    "total=0\n",
    "for i in numbers:\n",
    "    total=total+i\n",
    "    \n",
    "num_size=len(numbers)\n",
    "avg=total/num_size\n",
    "print(avg)"
   ]
  },
  {
   "cell_type": "code",
   "execution_count": 9,
   "id": "7bf966da",
   "metadata": {},
   "outputs": [
    {
     "data": {
      "text/plain": [
       "[\"'!Consider' is not recognized as an internal or external command,\",\n",
       " 'operable program or batch file.']"
      ]
     },
     "execution_count": 9,
     "metadata": {},
     "output_type": "execute_result"
    }
   ],
   "source": [
    "#Scaler_list_problem_2\n",
    "!!!Consider the following code for filtering even numbers from a list of numbers: !!!"
   ]
  },
  {
   "cell_type": "code",
   "execution_count": 10,
   "id": "ac8d8b29",
   "metadata": {},
   "outputs": [
    {
     "name": "stdout",
     "output_type": "stream",
     "text": [
      "[2, 4]\n"
     ]
    }
   ],
   "source": [
    "numbers=[1,2,3,4,5]\n",
    "even=[]\n",
    "for i  in numbers:\n",
    "    if i%2==0:\n",
    "        even.append(i)\n",
    "print(even)        "
   ]
  },
  {
   "cell_type": "code",
   "execution_count": null,
   "id": "d0d18d25",
   "metadata": {},
   "outputs": [],
   "source": []
  }
 ],
 "metadata": {
  "kernelspec": {
   "display_name": "Python 3 (ipykernel)",
   "language": "python",
   "name": "python3"
  },
  "language_info": {
   "codemirror_mode": {
    "name": "ipython",
    "version": 3
   },
   "file_extension": ".py",
   "mimetype": "text/x-python",
   "name": "python",
   "nbconvert_exporter": "python",
   "pygments_lexer": "ipython3",
   "version": "3.10.1"
  }
 },
 "nbformat": 4,
 "nbformat_minor": 5
}
